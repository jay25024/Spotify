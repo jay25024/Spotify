{
 "cells": [
  {
   "cell_type": "code",
   "execution_count": 1,
   "id": "c6e132b2",
   "metadata": {},
   "outputs": [
    {
     "name": "stdout",
     "output_type": "stream",
     "text": [
      "Requirement already satisfied: requests in c:\\users\\jayba\\onedrive\\desktop\\spotify\\env\\lib\\site-packages (2.26.0)\n",
      "Requirement already satisfied: charset-normalizer~=2.0.0 in c:\\users\\jayba\\onedrive\\desktop\\spotify\\env\\lib\\site-packages (from requests) (2.0.7)\n",
      "Requirement already satisfied: idna<4,>=2.5 in c:\\users\\jayba\\onedrive\\desktop\\spotify\\env\\lib\\site-packages (from requests) (3.3)\n",
      "Requirement already satisfied: certifi>=2017.4.17 in c:\\users\\jayba\\onedrive\\desktop\\spotify\\env\\lib\\site-packages (from requests) (2021.10.8)\n",
      "Requirement already satisfied: urllib3<1.27,>=1.21.1 in c:\\users\\jayba\\onedrive\\desktop\\spotify\\env\\lib\\site-packages (from requests) (1.26.7)\n"
     ]
    }
   ],
   "source": [
    "!pip install requests"
   ]
  },
  {
   "cell_type": "code",
   "execution_count": 2,
   "id": "057a4860",
   "metadata": {},
   "outputs": [],
   "source": [
    "import requests\n",
    "import datetime"
   ]
  },
  {
   "cell_type": "code",
   "execution_count": 3,
   "id": "3ee55c6a",
   "metadata": {},
   "outputs": [],
   "source": [
    "import base64"
   ]
  },
  {
   "cell_type": "code",
   "execution_count": 4,
   "id": "9f48c62f",
   "metadata": {},
   "outputs": [],
   "source": [
    "client_id = '592898ed445745d291732f0db3a7250c'\n",
    "client_secret = 'b0d5223ecbce4328aea9f50dc2200c69'"
   ]
  },
  {
   "cell_type": "code",
   "execution_count": 5,
   "id": "15db80b5",
   "metadata": {},
   "outputs": [],
   "source": [
    "class SpotifyAPI(object):\n",
    "  access_token = None\n",
    "  token_url = \"https://accounts.spotify.com/api/token\"\n",
    "  access_token_expires = datetime.datetime.now()\n",
    "  client_id = None\n",
    "  access_token_did_expire = True\n",
    "  client_secret = None\n",
    "    \n",
    "  def __init__(self,client_id, client_secret, *args, **kwargs):\n",
    "    super().__init__(*args, **kwargs)\n",
    "    self.client_id = client_id\n",
    "    self.client_secret= client_secret\n",
    "\n",
    "  def get_client_credentials(self):\n",
    "    \"\"\"\n",
    "     Returns a base64 encoded string\n",
    "    \"\"\"\n",
    "    client_id = self.client_id\n",
    "    client_secret = self.client_secret\n",
    "    if client_secret == None or client_id == None:\n",
    "        raise Exception(\" Set client_id and secret\")\n",
    "    client_creds = f\"{client_id}:{client_secret}\"\n",
    "    client_creds_b64 = base64.b64encode(client_creds.encode())\n",
    "    return client_creds_b64.decode()\n",
    "  \n",
    "\n",
    "  \n",
    "  def get_token_headers(self):\n",
    "    client_creds_b64 = self.get_client_credentials()\n",
    "    return {\n",
    "        'Authorization': f\"Basic {client_creds_b64}\"\n",
    "    }\n",
    "\n",
    "  def get_token_data(self):\n",
    "        return{\n",
    "             'grant_type': \"client_credentials\"\n",
    "        }\n",
    "    \n",
    "  def perform_auth(self):\n",
    "       token_url = self.token_url\n",
    "       token_data = self.get_token_data()\n",
    "       token_headers = self.get_token_headers()\n",
    "       r = requests.post(token_url, data = token_data, headers=token_headers)\n",
    "       if r.status_code not in range(200,299):\n",
    "             return False\n",
    "       data = r.json()\n",
    "       now = datetime.datetime.now()\n",
    "       access_token = data['access_token']\n",
    "       self.access_token = access_token\n",
    "       expires_in = data['expires_in'] #seconds\n",
    "       expires = now+ datetime.timedelta(seconds=expires_in)\n",
    "       self.access_token_expires = expires\n",
    "       self.access_token_did_expire = expires < now\n",
    "       return True\n"
   ]
  },
  {
   "cell_type": "code",
   "execution_count": 6,
   "id": "847cb2bf",
   "metadata": {},
   "outputs": [],
   "source": [
    "spotify = SpotifyAPI(client_id, client_secret)"
   ]
  },
  {
   "cell_type": "code",
   "execution_count": 7,
   "id": "866f6a22",
   "metadata": {},
   "outputs": [
    {
     "data": {
      "text/plain": [
       "True"
      ]
     },
     "execution_count": 7,
     "metadata": {},
     "output_type": "execute_result"
    }
   ],
   "source": [
    "spotify.perform_auth()\n"
   ]
  },
  {
   "cell_type": "code",
   "execution_count": 8,
   "id": "e61fde4d",
   "metadata": {},
   "outputs": [],
   "source": [
    "access_token = spotify.access_token\n"
   ]
  },
  {
   "cell_type": "code",
   "execution_count": 9,
   "id": "de50a015",
   "metadata": {},
   "outputs": [],
   "source": [
    "header = {\n",
    "    \"Authorization\" : f\"Bearer {access_token}\"\n",
    "}\n",
    "endpoint = \"https://api.spotify.com/v1/search\"\n",
    "data = {\"q\":\"Time\", \"type\": \"track\"}\n",
    "r = requests.get(endpoint, data = data, headers = header)"
   ]
  },
  {
   "cell_type": "code",
   "execution_count": null,
   "id": "df2156fb",
   "metadata": {},
   "outputs": [],
   "source": []
  }
 ],
 "metadata": {
  "kernelspec": {
   "display_name": "Python 3 (ipykernel)",
   "language": "python",
   "name": "python3"
  },
  "language_info": {
   "codemirror_mode": {
    "name": "ipython",
    "version": 3
   },
   "file_extension": ".py",
   "mimetype": "text/x-python",
   "name": "python",
   "nbconvert_exporter": "python",
   "pygments_lexer": "ipython3",
   "version": "3.10.0"
  }
 },
 "nbformat": 4,
 "nbformat_minor": 5
}
